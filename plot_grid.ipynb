{
 "cells": [
  {
   "cell_type": "code",
   "execution_count": 1,
   "metadata": {},
   "outputs": [],
   "source": [
    "%matplotlib inline"
   ]
  },
  {
   "cell_type": "markdown",
   "metadata": {},
   "source": [
    "\n",
    "Grid\n",
    "====\n",
    "\n",
    "Displaying a grid on the axes in matploblib.\n",
    "\n"
   ]
  },
  {
   "cell_type": "code",
   "execution_count": 2,
   "metadata": {},
   "outputs": [
    {
     "data": {
      "image/png": "[encoded data removed]",
      "text/plain": [
       "<Figure size 432x288 with 1 Axes>"
      ]
     },
     "metadata": {
      "needs_background": "light"
     },
     "output_type": "display_data"
    }
   ],
   "source": [
    "import matplotlib.pyplot as plt\n",
    "\n",
    "ax = plt.axes([0.025, 0.025, 0.95, 0.95])\n",
    "\n",
    "ax.set_xlim(0,4)\n",
    "ax.set_ylim(0,3)\n",
    "ax.xaxis.set_major_locator(plt.MultipleLocator(1.0))\n",
    "ax.xaxis.set_minor_locator(plt.MultipleLocator(0.1))\n",
    "ax.yaxis.set_major_locator(plt.MultipleLocator(1.0))\n",
    "ax.yaxis.set_minor_locator(plt.MultipleLocator(0.1))\n",
    "ax.grid(which='major', axis='x', linewidth=0.75, linestyle='-', color='0.75')\n",
    "ax.grid(which='minor', axis='x', linewidth=0.25, linestyle='-', color='0.75')\n",
    "ax.grid(which='major', axis='y', linewidth=0.75, linestyle='-', color='0.75')\n",
    "ax.grid(which='minor', axis='y', linewidth=0.25, linestyle='-', color='0.75')\n",
    "ax.set_xticklabels([])\n",
    "ax.set_yticklabels([])\n",
    "\n",
    "plt.show()"
   ]
  },
  {
   "cell_type": "code",
   "execution_count": null,
   "metadata": {},
   "outputs": [],
   "source": []
  },
  {
   "cell_type": "code",
   "execution_count": null,
   "metadata": {},
   "outputs": [],
   "source": []
  }
 ],
 "metadata": {
  "kernelspec": {
   "display_name": "Python 3",
   "language": "python",
   "name": "python3"
  },
  "language_info": {
   "codemirror_mode": {
    "name": "ipython",
    "version": 3
   },
   "file_extension": ".py",
   "mimetype": "text/x-python",
   "name": "python",
   "nbconvert_exporter": "python",
   "pygments_lexer": "ipython3",
   "version": "3.7.3"
  }
 },
 "nbformat": 4,
 "nbformat_minor": 1
}

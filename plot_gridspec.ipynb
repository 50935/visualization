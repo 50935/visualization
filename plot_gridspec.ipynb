{
 "cells": [
  {
   "cell_type": "code",
   "execution_count": 1,
   "metadata": {},
   "outputs": [],
   "source": [
    "%matplotlib inline"
   ]
  },
  {
   "cell_type": "markdown",
   "metadata": {},
   "source": [
    "\n",
    "GridSpec\n",
    "=========\n",
    "\n",
    "An example demoing gridspec\n",
    "\n"
   ]
  },
  {
   "cell_type": "code",
   "execution_count": 2,
   "metadata": {},
   "outputs": [
    {
     "data": {
      "image/png": "[encoded data removed]",
      "text/plain": [
       "<Figure size 432x288 with 5 Axes>"
      ]
     },
     "metadata": {},
     "output_type": "display_data"
    }
   ],
   "source": [
    "import matplotlib.pyplot as plt\n",
    "import matplotlib.gridspec as gridspec\n",
    "\n",
    "plt.figure(figsize=(6, 4))\n",
    "G = gridspec.GridSpec(3, 3)\n",
    "\n",
    "axes_1 = plt.subplot(G[0, :])\n",
    "plt.xticks([])\n",
    "plt.yticks([])\n",
    "plt.text(0.5, 0.5, 'Axes 1', ha='center', va='center', size=24, alpha=.5)\n",
    "\n",
    "axes_2 = plt.subplot(G[1, :-1])\n",
    "plt.xticks([])\n",
    "plt.yticks([])\n",
    "plt.text(0.5, 0.5, 'Axes 2', ha='center', va='center', size=24, alpha=.5)\n",
    "\n",
    "axes_3 = plt.subplot(G[1:, -1])\n",
    "plt.xticks([])\n",
    "plt.yticks([])\n",
    "plt.text(0.5, 0.5, 'Axes 3', ha='center', va='center', size=24, alpha=.5)\n",
    "\n",
    "axes_4 = plt.subplot(G[-1, 0])\n",
    "plt.xticks([])\n",
    "plt.yticks([])\n",
    "plt.text(0.5, 0.5, 'Axes 4', ha='center', va='center', size=24, alpha=.5)\n",
    "\n",
    "axes_5 = plt.subplot(G[-1, -2])\n",
    "plt.xticks([])\n",
    "plt.yticks([])\n",
    "plt.text(0.5, 0.5, 'Axes 5', ha='center', va='center', size=24, alpha=.5)\n",
    "\n",
    "plt.tight_layout()\n",
    "plt.show()"
   ]
  },
  {
   "cell_type": "code",
   "execution_count": null,
   "metadata": {},
   "outputs": [],
   "source": []
  },
  {
   "cell_type": "code",
   "execution_count": null,
   "metadata": {},
   "outputs": [],
   "source": []
  }
 ],
 "metadata": {
  "kernelspec": {
   "display_name": "Python 3",
   "language": "python",
   "name": "python3"
  },
  "language_info": {
   "codemirror_mode": {
    "name": "ipython",
    "version": 3
   },
   "file_extension": ".py",
   "mimetype": "text/x-python",
   "name": "python",
   "nbconvert_exporter": "python",
   "pygments_lexer": "ipython3",
   "version": "3.7.3"
  }
 },
 "nbformat": 4,
 "nbformat_minor": 1
}
